{
 "cells": [
  {
   "cell_type": "code",
   "execution_count": 32,
   "metadata": {
    "collapsed": true
   },
   "outputs": [],
   "source": [
    "import numpy as np\n",
    "import pandas as pd"
   ]
  },
  {
   "cell_type": "code",
   "execution_count": 92,
   "metadata": {
    "collapsed": false
   },
   "outputs": [
    {
     "name": "stdout",
     "output_type": "stream",
     "text": [
      "['1', ['3', '1', '10', '15', '3', '1', '3', '2', '25', '1', '15', '1', '11', '1', '18', '1', '2', '1', '10', '1', '3', '1', '61', '1', '5', '2', '8', '2', '2', '4', '5', '1', '3', '1', '3', '6', '23', '1', '7', '1', '10', '1', '18', '2', '1', '3', '5', '1', '10', '1', '20', '1', '3', '3', '9', '2', '8', '1', '9', '1', '4', '1', '29', '1', '5', '1', '4', '5', '6', '1', '9', '15', '2', '3', '32', '1', '4', '27', '1', '3', '12', '1', '41', '1', '2', '1', '1', '1', '16', '1', '4', '5', '5', '1', '4', '1', '1', '1', '9', '1', '13', '4', '1', '1', '6', '3', '4', '1', '4', '1', '3', '2', '47', '1', '27', '1', '23', '1', '15', '1', '9', '1', '7', '2', '1', '2', '5', '1', '29', '1', '38', '3', '5', '5', '9', '1', '13', '2', '2', '8', '11', '1', '14', '1', '21', '17', '18', '3', '32', '1', '17', '38', '25', '2', '3', '1', '3', '1', '1', '1', '2', '13', '1', '1', '9', '4', '2', '1', '14', '1', '1', '1', '2', '2', '8', '1', '29', '1', '15', '1', '1', '2', '7', '2', '10', '1', '26', '1', '29', '1', '12', '1', '3', '2', '9', '2', '5', '1', '36', '1', '5', '1', '13', '1', '1', '2', '1', '1', '7', '1', '5', '2', '5', '1', '4', '1', '19', '2', '18', '3', '2', '3', '1', '1', '3', '1', '3', '1', '6', '1', '22', '3', '6', '1', '8', '1', '26', '1', '29', '1', '1', '1', '11', '1', '16', '2', '19', '1', '12', '1', '2', '1', '1', '1', '3', '1', '7', '1', '3', '1', '12', '1', '1', '2', '11', '1', '20', '1', '-1']]\n"
     ]
    }
   ],
   "source": [
    "# tokens_list = {line[0]: line.split(\" \")[1][:-1] for line in open('TOKENS_LIST', 'r').readlines()}\n",
    "tokens_list = [line.split(\" \")[1][:-1] for line in open('TOKENS_LIST', 'r').readlines()]\n",
    "emails = [[email[0], email.split()[1:-1]] for email in open('MATRIX.TRAIN', 'r').readlines()[3:]]\n",
    "# emails_results = []\n",
    "# emails_vocabularies = []\n",
    "\n",
    "# f\n",
    "print(emails[0])\n",
    "# email_1 = emails_file[3].split()\n",
    "# email_y, email_tokens = email_1[0], [int(i) for i in email_1[1:-1]]"
   ]
  },
  {
   "cell_type": "code",
   "execution_count": 87,
   "metadata": {
    "collapsed": false
   },
   "outputs": [
    {
     "data": {
      "text/plain": [
       "15.0"
      ]
     },
     "execution_count": 87,
     "metadata": {},
     "output_type": "execute_result"
    }
   ],
   "source": [
    "email_vocabulary = np.zeros(shape=(1448))\n",
    "cur_index = 0\n",
    "\n",
    "for i in range(0, len(email_tokens), 2):\n",
    "    cur_index += email_tokens[i]\n",
    "    email_vocabulary[cur_index] = email_tokens[i + 1]"
   ]
  },
  {
   "cell_type": "code",
   "execution_count": null,
   "metadata": {
    "collapsed": true
   },
   "outputs": [],
   "source": []
  }
 ],
 "metadata": {
  "kernelspec": {
   "display_name": "Python 3",
   "language": "python",
   "name": "python3"
  },
  "language_info": {
   "codemirror_mode": {
    "name": "ipython",
    "version": 3
   },
   "file_extension": ".py",
   "mimetype": "text/x-python",
   "name": "python",
   "nbconvert_exporter": "python",
   "pygments_lexer": "ipython3",
   "version": "3.6.0"
  }
 },
 "nbformat": 4,
 "nbformat_minor": 2
}
