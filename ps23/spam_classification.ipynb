{
 "cells": [
  {
   "cell_type": "code",
   "execution_count": 2,
   "metadata": {
    "collapsed": true
   },
   "outputs": [],
   "source": [
    "import numpy as np\n",
    "import pandas as pd"
   ]
  },
  {
   "cell_type": "code",
   "execution_count": 8,
   "metadata": {
    "collapsed": false
   },
   "outputs": [
    {
     "name": "stdout",
     "output_type": "stream",
     "text": [
      "15.0\n"
     ]
    }
   ],
   "source": [
    "tokens_list = [line.split(\" \")[1][:-1] for line in open('TOKENS_LIST', 'r').readlines()]\n",
    "emails = [[int(email[0]), [int(el) for el in email.split()[1:-1]]] for email in open('MATRIX.TRAIN', 'r').readlines()[3:]]\n",
    "\n",
    "emails_results = []\n",
    "emails_vocabularies = []\n",
    "\n",
    "def parse_vocabulary(email): \n",
    "    email_vocabulary = np.zeros(shape=(1448))\n",
    "    cur_index = 0\n",
    "\n",
    "    for i in range(0, len(email), 2):\n",
    "        cur_index += email[i]\n",
    "        email_vocabulary[cur_index] = email[i + 1]\n",
    "        \n",
    "    return np.array(email_vocabulary)\n",
    "\n",
    "for i in range(len(emails)):\n",
    "    emails_results.append(emails[i][0])\n",
    "    emails_vocabularies.append(parse_vocabulary(emails[i][1]))\n",
    "    \n",
    "print(emails_vocabularies[0][13])"
   ]
  },
  {
   "cell_type": "code",
   "execution_count": null,
   "metadata": {
    "collapsed": true
   },
   "outputs": [],
   "source": []
  }
 ],
 "metadata": {
  "kernelspec": {
   "display_name": "Python 3",
   "language": "python",
   "name": "python3"
  },
  "language_info": {
   "codemirror_mode": {
    "name": "ipython",
    "version": 3
   },
   "file_extension": ".py",
   "mimetype": "text/x-python",
   "name": "python",
   "nbconvert_exporter": "python",
   "pygments_lexer": "ipython3",
   "version": "3.6.0"
  }
 },
 "nbformat": 4,
 "nbformat_minor": 2
}
