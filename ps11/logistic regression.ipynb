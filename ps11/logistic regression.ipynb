{
 "cells": [
  {
   "cell_type": "code",
   "execution_count": 239,
   "metadata": {
    "collapsed": false
   },
   "outputs": [
    {
     "name": "stdout",
     "output_type": "stream",
     "text": [
      "99\n",
      "99\n"
     ]
    }
   ],
   "source": [
    "import numpy as np\n",
    "from numpy.linalg import inv, norm\n",
    "from matplotlib import pyplot as plt\n",
    "\n",
    "# xs = fopen('./logistic_x.txt', 'r')\n",
    "# ys = fopen('./logistic_y.txt', 'r')\n",
    "\n",
    "with open('./logistic_x.txt', 'r') as xs_file:\n",
    "    xs = np.array([np.concatenate(([1], [float(xp.strip()) for xp in x.strip().split('  ')])) for x in xs_file.readlines()])\n",
    "\n",
    "with open('./logistic_y.txt', 'r') as ys_file:\n",
    "    ys = np.array([int(float(y.strip())) for y in ys_file.readlines()])\n",
    "    ys = [i if i == 1 else 0 for i in ys]\n",
    "\n",
    "print(len(xs))\n",
    "print(len(ys))"
   ]
  },
  {
   "cell_type": "code",
   "execution_count": 313,
   "metadata": {
    "collapsed": false
   },
   "outputs": [
    {
     "data": {
      "image/png": "[encoded data removed]",
      "text/plain": [
       "<matplotlib.figure.Figure at 0x1118e21d0>"
      ]
     },
     "metadata": {},
     "output_type": "display_data"
    }
   ],
   "source": [
    "def draw_line(x, t):\n",
    "    return (-t[0] - t[1]*x)/t[2]\n",
    "\n",
    "def draw_graph():\n",
    "    pos = [xs[i] for i in range(len(xs)) if ys[i] == 1]\n",
    "    neg = [xs[i] for i in range(len(xs)) if ys[i] == 0]\n",
    "\n",
    "    plt.scatter([x[1] for x in pos], [x[2] for x in pos], marker='o')\n",
    "    plt.scatter([x[1] for x in neg], [x[2] for x in neg], marker='x')\n",
    "    thetas = np.array([302.08529149,  -92.6179118,  -143.69778876])\n",
    "    plt.plot(xs[:,1], [draw_line(x, thetas) for x in xs[:,1]], color='r')\n",
    "    plt.ylabel('some numbers')\n",
    "    \n",
    "    plt.show()\n",
    "    \n",
    "draw_graph()\n",
    "# thetas = [1,1,1]\n",
    "# print([draw_line(x, thetas) for x in xs[:,1]], xs[:,1])\n",
    "# # print(xs[:,1])"
   ]
  },
  {
   "cell_type": "code",
   "execution_count": 312,
   "metadata": {
    "collapsed": false
   },
   "outputs": [
    {
     "name": "stdout",
     "output_type": "stream",
     "text": [
      "[ 302.08529149  -92.6179118  -143.69778876]\n"
     ]
    }
   ],
   "source": [
    "m = len(xs)\n",
    "thetas = np.array([0.0,0.0,0.0])\n",
    "\n",
    "def h(x, thetas):\n",
    "    return 1 / (1 + np.e ** (-np.dot(thetas, x)))\n",
    "\n",
    "def likelihood(ys, xs, thetas):\n",
    "    return np.prod([(h(x, thetas) ** y) * ((1 - h(x, thetas)) ** (1 - y)) for y, x in zip(ys, xs)])\n",
    "\n",
    "def log_likelihood(ys, xs, thetas):\n",
    "    return np.sum([(y * np.log(h(x, thetas)) + (1 - y) * np.log(1 - h(x, thetas))) for x,y in zip(xs,ys)])\n",
    "\n",
    "def gradient(ys, xs, thetas):\n",
    "    return [sum([((ys[i] - h(xs[i], thetas)) * xs[i][k]) for i in range(m)]) for k in range(len(thetas))]\n",
    "\n",
    "def hessian(xs,thetas):\n",
    "    return np.array([[sum([(x[k]*x[s] * h(x, thetas) * (1 - h(x,thetas))) for x in xs]) for s in range(len(thetas))] for k in range(len(thetas))])\n",
    "\n",
    "def newton_method(ys, xs, t):\n",
    "    t_old = t\n",
    "    t_new = t - inv(hessian(xs, t)).dot(gradient(ys, xs, t))\n",
    "    \n",
    "    for j in range(2):\n",
    "        t_old = t_new\n",
    "        t_new = t_new - inv(hessian(xs, t_new)).dot(gradient(ys, xs, t_new))\n",
    "    \n",
    "    return t_new\n",
    "\n",
    "print(newton_method(ys, xs, thetas))"
   ]
  },
  {
   "cell_type": "code",
   "execution_count": null,
   "metadata": {
    "collapsed": true
   },
   "outputs": [],
   "source": []
  }
 ],
 "metadata": {
  "kernelspec": {
   "display_name": "Python 3",
   "language": "python",
   "name": "python3"
  },
  "language_info": {
   "codemirror_mode": {
    "name": "ipython",
    "version": 3
   },
   "file_extension": ".py",
   "mimetype": "text/x-python",
   "name": "python",
   "nbconvert_exporter": "python",
   "pygments_lexer": "ipython3",
   "version": "3.6.0"
  }
 },
 "nbformat": 4,
 "nbformat_minor": 2
}
