{
 "cells": [
  {
   "cell_type": "code",
   "execution_count": 136,
   "metadata": {
    "collapsed": true
   },
   "outputs": [],
   "source": [
    "import pandas as pd\n",
    "import numpy as np\n",
    "import matplotlib.pyplot as plt\n",
    "from numpy.linalg import inv"
   ]
  },
  {
   "cell_type": "code",
   "execution_count": 120,
   "metadata": {
    "collapsed": false
   },
   "outputs": [],
   "source": [
    "data = pd.read_csv(\"quasar_train.csv\", dtype={ 'a': np.float })"
   ]
  },
  {
   "cell_type": "code",
   "execution_count": 180,
   "metadata": {
    "collapsed": false
   },
   "outputs": [
    {
     "data": {
      "image/png": "[encoded data removed]",
      "text/plain": [
       "<matplotlib.figure.Figure at 0x117f9c940>"
      ]
     },
     "metadata": {},
     "output_type": "display_data"
    }
   ],
   "source": [
    "xs = np.array([([1, x]) for x in range(1150, 1600)])\n",
    "row = np.array(range(1150, 1600))\n",
    "ys = data.iloc[0].tolist()\n",
    "\n",
    "plt.scatter(row, ys, color='blue', marker='o')\n",
    "plt.show()"
   ]
  },
  {
   "cell_type": "code",
   "execution_count": 151,
   "metadata": {
    "collapsed": false
   },
   "outputs": [
    {
     "name": "stdout",
     "output_type": "stream",
     "text": [
      "[[   1 1150]\n",
      " [   1 1151]\n",
      " [   1 1152]\n",
      " [   1 1153]\n",
      " [   1 1154]\n",
      " [   1 1155]\n",
      " [   1 1156]\n",
      " [   1 1157]\n",
      " [   1 1158]\n",
      " [   1 1159]\n",
      " [   1 1160]\n",
      " [   1 1161]\n",
      " [   1 1162]\n",
      " [   1 1163]\n",
      " [   1 1164]\n",
      " [   1 1165]\n",
      " [   1 1166]\n",
      " [   1 1167]\n",
      " [   1 1168]\n",
      " [   1 1169]\n",
      " [   1 1170]\n",
      " [   1 1171]\n",
      " [   1 1172]\n",
      " [   1 1173]\n",
      " [   1 1174]\n",
      " [   1 1175]\n",
      " [   1 1176]\n",
      " [   1 1177]\n",
      " [   1 1178]\n",
      " [   1 1179]\n",
      " [   1 1180]\n",
      " [   1 1181]\n",
      " [   1 1182]\n",
      " [   1 1183]\n",
      " [   1 1184]\n",
      " [   1 1185]\n",
      " [   1 1186]\n",
      " [   1 1187]\n",
      " [   1 1188]\n",
      " [   1 1189]\n",
      " [   1 1190]\n",
      " [   1 1191]\n",
      " [   1 1192]\n",
      " [   1 1193]\n",
      " [   1 1194]\n",
      " [   1 1195]\n",
      " [   1 1196]\n",
      " [   1 1197]\n",
      " [   1 1198]\n",
      " [   1 1199]\n",
      " [   1 1200]\n",
      " [   1 1201]\n",
      " [   1 1202]\n",
      " [   1 1203]\n",
      " [   1 1204]\n",
      " [   1 1205]\n",
      " [   1 1206]\n",
      " [   1 1207]\n",
      " [   1 1208]\n",
      " [   1 1209]\n",
      " [   1 1210]\n",
      " [   1 1211]\n",
      " [   1 1212]\n",
      " [   1 1213]\n",
      " [   1 1214]\n",
      " [   1 1215]\n",
      " [   1 1216]\n",
      " [   1 1217]\n",
      " [   1 1218]\n",
      " [   1 1219]\n",
      " [   1 1220]\n",
      " [   1 1221]\n",
      " [   1 1222]\n",
      " [   1 1223]\n",
      " [   1 1224]\n",
      " [   1 1225]\n",
      " [   1 1226]\n",
      " [   1 1227]\n",
      " [   1 1228]\n",
      " [   1 1229]\n",
      " [   1 1230]\n",
      " [   1 1231]\n",
      " [   1 1232]\n",
      " [   1 1233]\n",
      " [   1 1234]\n",
      " [   1 1235]\n",
      " [   1 1236]\n",
      " [   1 1237]\n",
      " [   1 1238]\n",
      " [   1 1239]\n",
      " [   1 1240]\n",
      " [   1 1241]\n",
      " [   1 1242]\n",
      " [   1 1243]\n",
      " [   1 1244]\n",
      " [   1 1245]\n",
      " [   1 1246]\n",
      " [   1 1247]\n",
      " [   1 1248]\n",
      " [   1 1249]\n",
      " [   1 1250]\n",
      " [   1 1251]\n",
      " [   1 1252]\n",
      " [   1 1253]\n",
      " [   1 1254]\n",
      " [   1 1255]\n",
      " [   1 1256]\n",
      " [   1 1257]\n",
      " [   1 1258]\n",
      " [   1 1259]\n",
      " [   1 1260]\n",
      " [   1 1261]\n",
      " [   1 1262]\n",
      " [   1 1263]\n",
      " [   1 1264]\n",
      " [   1 1265]\n",
      " [   1 1266]\n",
      " [   1 1267]\n",
      " [   1 1268]\n",
      " [   1 1269]\n",
      " [   1 1270]\n",
      " [   1 1271]\n",
      " [   1 1272]\n",
      " [   1 1273]\n",
      " [   1 1274]\n",
      " [   1 1275]\n",
      " [   1 1276]\n",
      " [   1 1277]\n",
      " [   1 1278]\n",
      " [   1 1279]\n",
      " [   1 1280]\n",
      " [   1 1281]\n",
      " [   1 1282]\n",
      " [   1 1283]\n",
      " [   1 1284]\n",
      " [   1 1285]\n",
      " [   1 1286]\n",
      " [   1 1287]\n",
      " [   1 1288]\n",
      " [   1 1289]\n",
      " [   1 1290]\n",
      " [   1 1291]\n",
      " [   1 1292]\n",
      " [   1 1293]\n",
      " [   1 1294]\n",
      " [   1 1295]\n",
      " [   1 1296]\n",
      " [   1 1297]\n",
      " [   1 1298]\n",
      " [   1 1299]\n",
      " [   1 1300]\n",
      " [   1 1301]\n",
      " [   1 1302]\n",
      " [   1 1303]\n",
      " [   1 1304]\n",
      " [   1 1305]\n",
      " [   1 1306]\n",
      " [   1 1307]\n",
      " [   1 1308]\n",
      " [   1 1309]\n",
      " [   1 1310]\n",
      " [   1 1311]\n",
      " [   1 1312]\n",
      " [   1 1313]\n",
      " [   1 1314]\n",
      " [   1 1315]\n",
      " [   1 1316]\n",
      " [   1 1317]\n",
      " [   1 1318]\n",
      " [   1 1319]\n",
      " [   1 1320]\n",
      " [   1 1321]\n",
      " [   1 1322]\n",
      " [   1 1323]\n",
      " [   1 1324]\n",
      " [   1 1325]\n",
      " [   1 1326]\n",
      " [   1 1327]\n",
      " [   1 1328]\n",
      " [   1 1329]\n",
      " [   1 1330]\n",
      " [   1 1331]\n",
      " [   1 1332]\n",
      " [   1 1333]\n",
      " [   1 1334]\n",
      " [   1 1335]\n",
      " [   1 1336]\n",
      " [   1 1337]\n",
      " [   1 1338]\n",
      " [   1 1339]\n",
      " [   1 1340]\n",
      " [   1 1341]\n",
      " [   1 1342]\n",
      " [   1 1343]\n",
      " [   1 1344]\n",
      " [   1 1345]\n",
      " [   1 1346]\n",
      " [   1 1347]\n",
      " [   1 1348]\n",
      " [   1 1349]\n",
      " [   1 1350]\n",
      " [   1 1351]\n",
      " [   1 1352]\n",
      " [   1 1353]\n",
      " [   1 1354]\n",
      " [   1 1355]\n",
      " [   1 1356]\n",
      " [   1 1357]\n",
      " [   1 1358]\n",
      " [   1 1359]\n",
      " [   1 1360]\n",
      " [   1 1361]\n",
      " [   1 1362]\n",
      " [   1 1363]\n",
      " [   1 1364]\n",
      " [   1 1365]\n",
      " [   1 1366]\n",
      " [   1 1367]\n",
      " [   1 1368]\n",
      " [   1 1369]\n",
      " [   1 1370]\n",
      " [   1 1371]\n",
      " [   1 1372]\n",
      " [   1 1373]\n",
      " [   1 1374]\n",
      " [   1 1375]\n",
      " [   1 1376]\n",
      " [   1 1377]\n",
      " [   1 1378]\n",
      " [   1 1379]\n",
      " [   1 1380]\n",
      " [   1 1381]\n",
      " [   1 1382]\n",
      " [   1 1383]\n",
      " [   1 1384]\n",
      " [   1 1385]\n",
      " [   1 1386]\n",
      " [   1 1387]\n",
      " [   1 1388]\n",
      " [   1 1389]\n",
      " [   1 1390]\n",
      " [   1 1391]\n",
      " [   1 1392]\n",
      " [   1 1393]\n",
      " [   1 1394]\n",
      " [   1 1395]\n",
      " [   1 1396]\n",
      " [   1 1397]\n",
      " [   1 1398]\n",
      " [   1 1399]\n",
      " [   1 1400]\n",
      " [   1 1401]\n",
      " [   1 1402]\n",
      " [   1 1403]\n",
      " [   1 1404]\n",
      " [   1 1405]\n",
      " [   1 1406]\n",
      " [   1 1407]\n",
      " [   1 1408]\n",
      " [   1 1409]\n",
      " [   1 1410]\n",
      " [   1 1411]\n",
      " [   1 1412]\n",
      " [   1 1413]\n",
      " [   1 1414]\n",
      " [   1 1415]\n",
      " [   1 1416]\n",
      " [   1 1417]\n",
      " [   1 1418]\n",
      " [   1 1419]\n",
      " [   1 1420]\n",
      " [   1 1421]\n",
      " [   1 1422]\n",
      " [   1 1423]\n",
      " [   1 1424]\n",
      " [   1 1425]\n",
      " [   1 1426]\n",
      " [   1 1427]\n",
      " [   1 1428]\n",
      " [   1 1429]\n",
      " [   1 1430]\n",
      " [   1 1431]\n",
      " [   1 1432]\n",
      " [   1 1433]\n",
      " [   1 1434]\n",
      " [   1 1435]\n",
      " [   1 1436]\n",
      " [   1 1437]\n",
      " [   1 1438]\n",
      " [   1 1439]\n",
      " [   1 1440]\n",
      " [   1 1441]\n",
      " [   1 1442]\n",
      " [   1 1443]\n",
      " [   1 1444]\n",
      " [   1 1445]\n",
      " [   1 1446]\n",
      " [   1 1447]\n",
      " [   1 1448]\n",
      " [   1 1449]\n",
      " [   1 1450]\n",
      " [   1 1451]\n",
      " [   1 1452]\n",
      " [   1 1453]\n",
      " [   1 1454]\n",
      " [   1 1455]\n",
      " [   1 1456]\n",
      " [   1 1457]\n",
      " [   1 1458]\n",
      " [   1 1459]\n",
      " [   1 1460]\n",
      " [   1 1461]\n",
      " [   1 1462]\n",
      " [   1 1463]\n",
      " [   1 1464]\n",
      " [   1 1465]\n",
      " [   1 1466]\n",
      " [   1 1467]\n",
      " [   1 1468]\n",
      " [   1 1469]\n",
      " [   1 1470]\n",
      " [   1 1471]\n",
      " [   1 1472]\n",
      " [   1 1473]\n",
      " [   1 1474]\n",
      " [   1 1475]\n",
      " [   1 1476]\n",
      " [   1 1477]\n",
      " [   1 1478]\n",
      " [   1 1479]\n",
      " [   1 1480]\n",
      " [   1 1481]\n",
      " [   1 1482]\n",
      " [   1 1483]\n",
      " [   1 1484]\n",
      " [   1 1485]\n",
      " [   1 1486]\n",
      " [   1 1487]\n",
      " [   1 1488]\n",
      " [   1 1489]\n",
      " [   1 1490]\n",
      " [   1 1491]\n",
      " [   1 1492]\n",
      " [   1 1493]\n",
      " [   1 1494]\n",
      " [   1 1495]\n",
      " [   1 1496]\n",
      " [   1 1497]\n",
      " [   1 1498]\n",
      " [   1 1499]\n",
      " [   1 1500]\n",
      " [   1 1501]\n",
      " [   1 1502]\n",
      " [   1 1503]\n",
      " [   1 1504]\n",
      " [   1 1505]\n",
      " [   1 1506]\n",
      " [   1 1507]\n",
      " [   1 1508]\n",
      " [   1 1509]\n",
      " [   1 1510]\n",
      " [   1 1511]\n",
      " [   1 1512]\n",
      " [   1 1513]\n",
      " [   1 1514]\n",
      " [   1 1515]\n",
      " [   1 1516]\n",
      " [   1 1517]\n",
      " [   1 1518]\n",
      " [   1 1519]\n",
      " [   1 1520]\n",
      " [   1 1521]\n",
      " [   1 1522]\n",
      " [   1 1523]\n",
      " [   1 1524]\n",
      " [   1 1525]\n",
      " [   1 1526]\n",
      " [   1 1527]\n",
      " [   1 1528]\n",
      " [   1 1529]\n",
      " [   1 1530]\n",
      " [   1 1531]\n",
      " [   1 1532]\n",
      " [   1 1533]\n",
      " [   1 1534]\n",
      " [   1 1535]\n",
      " [   1 1536]\n",
      " [   1 1537]\n",
      " [   1 1538]\n",
      " [   1 1539]\n",
      " [   1 1540]\n",
      " [   1 1541]\n",
      " [   1 1542]\n",
      " [   1 1543]\n",
      " [   1 1544]\n",
      " [   1 1545]\n",
      " [   1 1546]\n",
      " [   1 1547]\n",
      " [   1 1548]\n",
      " [   1 1549]\n",
      " [   1 1550]\n",
      " [   1 1551]\n",
      " [   1 1552]\n",
      " [   1 1553]\n",
      " [   1 1554]\n",
      " [   1 1555]\n",
      " [   1 1556]\n",
      " [   1 1557]\n",
      " [   1 1558]\n",
      " [   1 1559]\n",
      " [   1 1560]\n",
      " [   1 1561]\n",
      " [   1 1562]\n",
      " [   1 1563]\n",
      " [   1 1564]\n",
      " [   1 1565]\n",
      " [   1 1566]\n",
      " [   1 1567]\n",
      " [   1 1568]\n",
      " [   1 1569]\n",
      " [   1 1570]\n",
      " [   1 1571]\n",
      " [   1 1572]\n",
      " [   1 1573]\n",
      " [   1 1574]\n",
      " [   1 1575]\n",
      " [   1 1576]\n",
      " [   1 1577]\n",
      " [   1 1578]\n",
      " [   1 1579]\n",
      " [   1 1580]\n",
      " [   1 1581]\n",
      " [   1 1582]\n",
      " [   1 1583]\n",
      " [   1 1584]\n",
      " [   1 1585]\n",
      " [   1 1586]\n",
      " [   1 1587]\n",
      " [   1 1588]\n",
      " [   1 1589]\n",
      " [   1 1590]\n",
      " [   1 1591]\n",
      " [   1 1592]\n",
      " [   1 1593]\n",
      " [   1 1594]\n",
      " [   1 1595]\n",
      " [   1 1596]\n",
      " [   1 1597]\n",
      " [   1 1598]\n",
      " [   1 1599]]\n"
     ]
    }
   ],
   "source": [
    "print(xs)"
   ]
  },
  {
   "cell_type": "code",
   "execution_count": 155,
   "metadata": {
    "collapsed": false
   },
   "outputs": [
    {
     "name": "stdout",
     "output_type": "stream",
     "text": [
      "[  2.51339906e+00  -9.81122145e-04]\n"
     ]
    }
   ],
   "source": [
    "def thetas(x, y):\n",
    "    return inv(np.transpose(x).dot(x)).dot(np.transpose(x)).dot(y)\n",
    "\n",
    "print(thetas(xs, ys))"
   ]
  },
  {
   "cell_type": "code",
   "execution_count": 158,
   "metadata": {
    "collapsed": false
   },
   "outputs": [
    {
     "name": "stdout",
     "output_type": "stream",
     "text": [
      "[  2.51339906e+00  -9.81122145e-04]\n"
     ]
    }
   ],
   "source": [
    "t = thetas(xs, ys)\n",
    "print(t)"
   ]
  },
  {
   "cell_type": "code",
   "execution_count": 160,
   "metadata": {
    "collapsed": false
   },
   "outputs": [],
   "source": [
    "hypothesis = [np.transpose(t).dot(x) for x in xs]"
   ]
  },
  {
   "cell_type": "code",
   "execution_count": 186,
   "metadata": {
    "collapsed": false
   },
   "outputs": [
    {
     "data": {
      "image/png": "[encoded data removed]",
      "text/plain": [
       "<matplotlib.figure.Figure at 0x11808be48>"
      ]
     },
     "metadata": {},
     "output_type": "display_data"
    }
   ],
   "source": [
    "plt.plot(row, ys, 'go')\n",
    "plt.plot(row, hypothesis, 'r-');\n",
    "plt.show();"
   ]
  },
  {
   "cell_type": "code",
   "execution_count": 216,
   "metadata": {
    "collapsed": false
   },
   "outputs": [],
   "source": [
    "def get_weight(x, xi, tau):\n",
    "    return np.exp(-((x - xi) ** 2)/(2 * tau ** 2));\n",
    "\n",
    "def diag_matr(x, x_arr, tau):\n",
    "    tmp = np.diag([get_weight(x, xi, tau) for xi in x_arr]);\n",
    "    for i in range(0, len(x_arr)):\n",
    "        if tmp[i][i] < 0.1e-100:\n",
    "            tmp[i][i] = 0.1e-100\n",
    "    return tmp"
   ]
  },
  {
   "cell_type": "code",
   "execution_count": 222,
   "metadata": {
    "collapsed": false
   },
   "outputs": [],
   "source": [
    "def weighted_thetas(x, x_arr, x_row, y_arr, tau):\n",
    "    weights = diag_matr(x, x_row, tau);\n",
    "    return inv(np.transpose(x_arr).dot(weights).dot(x_arr)).dot(np.transpose(x_arr)).dot(weights).dot(y_arr)"
   ]
  },
  {
   "cell_type": "code",
   "execution_count": 223,
   "metadata": {
    "collapsed": false
   },
   "outputs": [],
   "source": [
    "wt = weighted_thetas(1200, xs, row, ys, 5)"
   ]
  },
  {
   "cell_type": "code",
   "execution_count": 224,
   "metadata": {
    "collapsed": false
   },
   "outputs": [
    {
     "data": {
      "text/plain": [
       "array([  8.00352563e-01,   2.88344269e-04])"
      ]
     },
     "execution_count": 224,
     "metadata": {},
     "output_type": "execute_result"
    }
   ],
   "source": [
    "wt"
   ]
  },
  {
   "cell_type": "code",
   "execution_count": 225,
   "metadata": {
    "collapsed": true
   },
   "outputs": [],
   "source": [
    "xses = []\n",
    "yses = []\n",
    "\n",
    "for x in range(1150, 1600, 5):\n",
    "    b, a = weighted_thetas(x, xs, row, ys, 5)\n",
    "    y = a * x + b\n",
    "    xses.append(x)\n",
    "    yses.append(y)\n",
    "    \n"
   ]
  },
  {
   "cell_type": "code",
   "execution_count": 226,
   "metadata": {
    "collapsed": false
   },
   "outputs": [
    {
     "data": {
      "image/png": "[encoded data removed]",
      "text/plain": [
       "<matplotlib.figure.Figure at 0x117eabdd8>"
      ]
     },
     "metadata": {},
     "output_type": "display_data"
    }
   ],
   "source": [
    "plt.plot(row, ys, 'go')\n",
    "plt.plot(xses, yses, 'r-');\n",
    "plt.show();"
   ]
  },
  {
   "cell_type": "code",
   "execution_count": null,
   "metadata": {
    "collapsed": true
   },
   "outputs": [],
   "source": []
  }
 ],
 "metadata": {
  "kernelspec": {
   "display_name": "Python 3",
   "language": "python",
   "name": "python3"
  },
  "language_info": {
   "codemirror_mode": {
    "name": "ipython",
    "version": 3
   },
   "file_extension": ".py",
   "mimetype": "text/x-python",
   "name": "python",
   "nbconvert_exporter": "python",
   "pygments_lexer": "ipython3",
   "version": "3.6.0"
  }
 },
 "nbformat": 4,
 "nbformat_minor": 2
}
